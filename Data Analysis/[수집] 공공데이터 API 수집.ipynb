{
 "cells": [
  {
   "cell_type": "markdown",
   "metadata": {
    "ExecuteTime": {
     "end_time": "2021-04-05T07:07:03.745013Z",
     "start_time": "2021-04-05T07:07:03.741026Z"
    }
   },
   "source": [
    "# API 활용한 데이터 저장\n",
    "\n",
    "## 1. 자치구 단위 서울생활 인구 일별 집계표\n",
    "* [URL](http://data.seoul.go.kr/dataList/OA-15379/S/1/datasetView.do)\n",
    "* API로만 가져올 수 있는 데이터이므로 종속변수인 배달주문건수 데이터의 기간(2019-07-17 ~ 2020-09-30)만큼 추출"
   ]
  },
  {
   "cell_type": "code",
   "execution_count": 1,
   "metadata": {
    "ExecuteTime": {
     "end_time": "2021-04-05T08:39:30.711712Z",
     "start_time": "2021-04-05T08:39:30.704732Z"
    }
   },
   "outputs": [],
   "source": [
    "# 필요 라이브러리 import\n",
    "import requests\n",
    "from bs4 import BeautifulSoup\n",
    "import pandas as pd\n",
    "import numpy as np\n",
    "import time\n",
    "from tqdm.notebook import tqdm"
   ]
  },
  {
   "cell_type": "code",
   "execution_count": 2,
   "metadata": {
    "ExecuteTime": {
     "end_time": "2021-04-05T07:26:37.481462Z",
     "start_time": "2021-04-05T07:26:37.477433Z"
    }
   },
   "outputs": [],
   "source": [
    "# 요청변수\n",
    "url = 'http://openapi.seoul.go.kr:8088/72504a745a73756e35326176635a42/xml/SPOP_DAILYSUM_JACHI/1/100/'\n",
    "date_list = pd.date_range('2019-07-17', '2020-09-30').strftime('%Y%m%d')"
   ]
  },
  {
   "cell_type": "code",
   "execution_count": 3,
   "metadata": {
    "ExecuteTime": {
     "end_time": "2021-04-05T07:34:37.083558Z",
     "start_time": "2021-04-05T07:26:38.759545Z"
    }
   },
   "outputs": [
    {
     "data": {
      "application/vnd.jupyter.widget-view+json": {
       "model_id": "71280aa7fc764857a689fc0b42f54b61",
       "version_major": 2,
       "version_minor": 0
      },
      "text/plain": [
       "HBox(children=(HTML(value=''), FloatProgress(value=0.0, max=442.0), HTML(value='')))"
      ]
     },
     "metadata": {},
     "output_type": "display_data"
    },
    {
     "name": "stdout",
     "output_type": "stream",
     "text": [
      "\n"
     ]
    }
   ],
   "source": [
    "## API를 통해 데이터 저장하기\n",
    "\n",
    "data_list = []\n",
    "len_data = {}\n",
    "\n",
    "for date in tqdm(date_list):\n",
    "    url_fin = url + date # 각 날짜별로 데이터 바꿔가며 url 결합\n",
    "    result = requests.get(url_fin) \n",
    "    bs_obj = BeautifulSoup(result.content, \"html.parser\")\n",
    "    row_list = bs_obj.find_all('row')\n",
    "    data_list.extend(row_list)\n",
    "    \n",
    "    len_data[date] = len(row_list)\n",
    "    \n",
    "    "
   ]
  },
  {
   "cell_type": "code",
   "execution_count": 42,
   "metadata": {},
   "outputs": [
    {
     "data": {
      "application/vnd.jupyter.widget-view+json": {
       "model_id": "171769b97482454abb6a3d497e99715b",
       "version_major": 2,
       "version_minor": 0
      },
      "text/plain": [
       "HBox(children=(HTML(value=''), FloatProgress(value=1.0, bar_style='info', layout=Layout(width='20px'), max=1.0…"
      ]
     },
     "metadata": {},
     "output_type": "display_data"
    },
    {
     "name": "stdout",
     "output_type": "stream",
     "text": [
      "\n"
     ]
    }
   ],
   "source": [
    "## 최종 데이터 저장\n",
    "\n",
    "columns = ['stdr_de_id', 'signgu_code_se', 'signgu_nm', 'tot_lvpop_co', 'lvpop_co',\n",
    "          'lngtr_stay_frgnr_co', 'srtpd_stay_frgnr_co', 'dail_mxmm_mvmn_lvpop_co',\n",
    "          'dail_mumm_lvpop_co', 'day_lvpop_co', 'night_lvpop_co', 'dail_mxmm_mvmn_lvpop_co',\n",
    "          'su_else_inflow_lvpop_co', 'sam_adstrd_mvmn_lvpop_co', 'signgu_mvmn_lvpop_co']\n",
    "\n",
    "population = pd.DataFrame(columns=columns)\n",
    "\n",
    "for i, data in tqdm(enumerate(data_list)):\n",
    "    for column in columns:\n",
    "        population.loc[i, column] = data.find(column).text"
   ]
  },
  {
   "cell_type": "code",
   "execution_count": 49,
   "metadata": {},
   "outputs": [],
   "source": [
    "population.columns = ['기준일', '시군구코드', '시군구명', '총생활인구수', '내국인생활인구수',\n",
    "                     '장기체류외국인인구수', '단기체류외국인인구수', '일최대인구수', '일최소인구수',\n",
    "                     '주간인구수', '야간인구수', '일최대이동인구수', '서울외유입인구수', '동일자치구행정동간이동인구수',\n",
    "                     '자치구간이동인구수']"
   ]
  },
  {
   "cell_type": "code",
   "execution_count": 50,
   "metadata": {
    "ExecuteTime": {
     "end_time": "2021-04-05T08:41:55.054343Z",
     "start_time": "2021-04-05T08:41:54.974557Z"
    }
   },
   "outputs": [
    {
     "data": {
      "text/html": [
       "<div>\n",
       "<style scoped>\n",
       "    .dataframe tbody tr th:only-of-type {\n",
       "        vertical-align: middle;\n",
       "    }\n",
       "\n",
       "    .dataframe tbody tr th {\n",
       "        vertical-align: top;\n",
       "    }\n",
       "\n",
       "    .dataframe thead th {\n",
       "        text-align: right;\n",
       "    }\n",
       "</style>\n",
       "<table border=\"1\" class=\"dataframe\">\n",
       "  <thead>\n",
       "    <tr style=\"text-align: right;\">\n",
       "      <th></th>\n",
       "      <th>기준일</th>\n",
       "      <th>시군구코드</th>\n",
       "      <th>시군구명</th>\n",
       "      <th>총생활인구수</th>\n",
       "      <th>내국인생활인구수</th>\n",
       "      <th>장기체류외국인인구수</th>\n",
       "      <th>단기체류외국인인구수</th>\n",
       "      <th>일최대인구수</th>\n",
       "      <th>일최소인구수</th>\n",
       "      <th>주간인구수</th>\n",
       "      <th>야간인구수</th>\n",
       "      <th>일최대이동인구수</th>\n",
       "      <th>서울외유입인구수</th>\n",
       "      <th>동일자치구행정동간이동인구수</th>\n",
       "      <th>자치구간이동인구수</th>\n",
       "    </tr>\n",
       "  </thead>\n",
       "  <tbody>\n",
       "    <tr>\n",
       "      <th>0</th>\n",
       "      <td>20190717</td>\n",
       "      <td>11000</td>\n",
       "      <td>서울시</td>\n",
       "      <td>11047066.27130</td>\n",
       "      <td>10476088.74490</td>\n",
       "      <td>402694.20510</td>\n",
       "      <td>168283.32140</td>\n",
       "      <td>5922652.24620</td>\n",
       "      <td>10703316.45550</td>\n",
       "      <td>11343471.86140</td>\n",
       "      <td>10835347.99270</td>\n",
       "      <td>5922652.24620</td>\n",
       "      <td>1443767.33920</td>\n",
       "      <td>2007540.66260</td>\n",
       "      <td>2471344.24440</td>\n",
       "    </tr>\n",
       "    <tr>\n",
       "      <th>1</th>\n",
       "      <td>20190717</td>\n",
       "      <td>11110</td>\n",
       "      <td>종로구</td>\n",
       "      <td>347646.27100</td>\n",
       "      <td>318656.53290</td>\n",
       "      <td>16232.90500</td>\n",
       "      <td>12756.83300</td>\n",
       "      <td>280741.73630</td>\n",
       "      <td>245279.01400</td>\n",
       "      <td>445801.62500</td>\n",
       "      <td>277535.30380</td>\n",
       "      <td>280741.73630</td>\n",
       "      <td>77103.28080</td>\n",
       "      <td>31032.08440</td>\n",
       "      <td>172606.37110</td>\n",
       "    </tr>\n",
       "    <tr>\n",
       "      <th>2</th>\n",
       "      <td>20190717</td>\n",
       "      <td>11140</td>\n",
       "      <td>중구</td>\n",
       "      <td>388954.80030</td>\n",
       "      <td>316872.07720</td>\n",
       "      <td>24617.82990</td>\n",
       "      <td>47464.89320</td>\n",
       "      <td>344379.88000</td>\n",
       "      <td>251009.68960</td>\n",
       "      <td>520164.01020</td>\n",
       "      <td>295233.93610</td>\n",
       "      <td>344379.88000</td>\n",
       "      <td>94382.41020</td>\n",
       "      <td>28238.31000</td>\n",
       "      <td>221759.15980</td>\n",
       "    </tr>\n",
       "    <tr>\n",
       "      <th>3</th>\n",
       "      <td>20190717</td>\n",
       "      <td>11170</td>\n",
       "      <td>용산구</td>\n",
       "      <td>320144.28800</td>\n",
       "      <td>290097.76260</td>\n",
       "      <td>20526.32610</td>\n",
       "      <td>9520.19930</td>\n",
       "      <td>189644.15720</td>\n",
       "      <td>283575.15860</td>\n",
       "      <td>349216.90930</td>\n",
       "      <td>299378.13000</td>\n",
       "      <td>189644.15720</td>\n",
       "      <td>51772.66770</td>\n",
       "      <td>42762.69170</td>\n",
       "      <td>95108.79780</td>\n",
       "    </tr>\n",
       "    <tr>\n",
       "      <th>4</th>\n",
       "      <td>20190717</td>\n",
       "      <td>11200</td>\n",
       "      <td>성동구</td>\n",
       "      <td>354015.03830</td>\n",
       "      <td>337050.22790</td>\n",
       "      <td>15344.48490</td>\n",
       "      <td>1620.32550</td>\n",
       "      <td>191982.93710</td>\n",
       "      <td>336496.73110</td>\n",
       "      <td>364483.55300</td>\n",
       "      <td>346537.52780</td>\n",
       "      <td>191982.93710</td>\n",
       "      <td>37607.98280</td>\n",
       "      <td>59778.12110</td>\n",
       "      <td>94596.83320</td>\n",
       "    </tr>\n",
       "    <tr>\n",
       "      <th>...</th>\n",
       "      <td>...</td>\n",
       "      <td>...</td>\n",
       "      <td>...</td>\n",
       "      <td>...</td>\n",
       "      <td>...</td>\n",
       "      <td>...</td>\n",
       "      <td>...</td>\n",
       "      <td>...</td>\n",
       "      <td>...</td>\n",
       "      <td>...</td>\n",
       "      <td>...</td>\n",
       "      <td>...</td>\n",
       "      <td>...</td>\n",
       "      <td>...</td>\n",
       "      <td>...</td>\n",
       "    </tr>\n",
       "    <tr>\n",
       "      <th>11149</th>\n",
       "      <td>20200930</td>\n",
       "      <td>11620</td>\n",
       "      <td>관악구</td>\n",
       "      <td>488365.64850</td>\n",
       "      <td>461918.38660</td>\n",
       "      <td>23353.69920</td>\n",
       "      <td>3093.56280</td>\n",
       "      <td>180057.74870</td>\n",
       "      <td>464149.28660</td>\n",
       "      <td>473604.91330</td>\n",
       "      <td>498909.03080</td>\n",
       "      <td>180057.74870</td>\n",
       "      <td>41039.39720</td>\n",
       "      <td>88471.92170</td>\n",
       "      <td>50546.42980</td>\n",
       "    </tr>\n",
       "    <tr>\n",
       "      <th>11150</th>\n",
       "      <td>20200930</td>\n",
       "      <td>11650</td>\n",
       "      <td>서초구</td>\n",
       "      <td>475951.32730</td>\n",
       "      <td>461837.74690</td>\n",
       "      <td>10975.27890</td>\n",
       "      <td>3138.30150</td>\n",
       "      <td>209652.60460</td>\n",
       "      <td>433756.04630</td>\n",
       "      <td>485802.58920</td>\n",
       "      <td>468914.71160</td>\n",
       "      <td>209652.60460</td>\n",
       "      <td>54485.90890</td>\n",
       "      <td>71317.11270</td>\n",
       "      <td>83849.58300</td>\n",
       "    </tr>\n",
       "    <tr>\n",
       "      <th>11151</th>\n",
       "      <td>20200930</td>\n",
       "      <td>11680</td>\n",
       "      <td>강남구</td>\n",
       "      <td>640241.58850</td>\n",
       "      <td>618245.67270</td>\n",
       "      <td>15505.25050</td>\n",
       "      <td>6490.66530</td>\n",
       "      <td>276530.32180</td>\n",
       "      <td>577252.55750</td>\n",
       "      <td>657149.64600</td>\n",
       "      <td>628164.40460</td>\n",
       "      <td>276530.32180</td>\n",
       "      <td>68407.89380</td>\n",
       "      <td>96160.59410</td>\n",
       "      <td>111961.83390</td>\n",
       "    </tr>\n",
       "    <tr>\n",
       "      <th>11152</th>\n",
       "      <td>20200930</td>\n",
       "      <td>11710</td>\n",
       "      <td>송파구</td>\n",
       "      <td>705577.82950</td>\n",
       "      <td>687794.79230</td>\n",
       "      <td>14015.56320</td>\n",
       "      <td>3767.47400</td>\n",
       "      <td>274754.85890</td>\n",
       "      <td>678936.67900</td>\n",
       "      <td>693101.08580</td>\n",
       "      <td>714489.78940</td>\n",
       "      <td>274754.85890</td>\n",
       "      <td>71580.75170</td>\n",
       "      <td>134322.03180</td>\n",
       "      <td>68852.07540</td>\n",
       "    </tr>\n",
       "    <tr>\n",
       "      <th>11153</th>\n",
       "      <td>20200930</td>\n",
       "      <td>11740</td>\n",
       "      <td>강동구</td>\n",
       "      <td>506289.07010</td>\n",
       "      <td>494129.11060</td>\n",
       "      <td>9199.70160</td>\n",
       "      <td>2960.25790</td>\n",
       "      <td>191655.45880</td>\n",
       "      <td>480578.92400</td>\n",
       "      <td>488982.73420</td>\n",
       "      <td>518650.73860</td>\n",
       "      <td>191655.45880</td>\n",
       "      <td>44395.12800</td>\n",
       "      <td>113164.87940</td>\n",
       "      <td>34095.45140</td>\n",
       "    </tr>\n",
       "  </tbody>\n",
       "</table>\n",
       "<p>11154 rows × 15 columns</p>\n",
       "</div>"
      ],
      "text/plain": [
       "            기준일  시군구코드 시군구명          총생활인구수        내국인생활인구수    장기체류외국인인구수  \\\n",
       "0      20190717  11000  서울시  11047066.27130  10476088.74490  402694.20510   \n",
       "1      20190717  11110  종로구    347646.27100    318656.53290   16232.90500   \n",
       "2      20190717  11140   중구    388954.80030    316872.07720   24617.82990   \n",
       "3      20190717  11170  용산구    320144.28800    290097.76260   20526.32610   \n",
       "4      20190717  11200  성동구    354015.03830    337050.22790   15344.48490   \n",
       "...         ...    ...  ...             ...             ...           ...   \n",
       "11149  20200930  11620  관악구    488365.64850    461918.38660   23353.69920   \n",
       "11150  20200930  11650  서초구    475951.32730    461837.74690   10975.27890   \n",
       "11151  20200930  11680  강남구    640241.58850    618245.67270   15505.25050   \n",
       "11152  20200930  11710  송파구    705577.82950    687794.79230   14015.56320   \n",
       "11153  20200930  11740  강동구    506289.07010    494129.11060    9199.70160   \n",
       "\n",
       "         단기체류외국인인구수         일최대인구수          일최소인구수           주간인구수  \\\n",
       "0      168283.32140  5922652.24620  10703316.45550  11343471.86140   \n",
       "1       12756.83300   280741.73630    245279.01400    445801.62500   \n",
       "2       47464.89320   344379.88000    251009.68960    520164.01020   \n",
       "3        9520.19930   189644.15720    283575.15860    349216.90930   \n",
       "4        1620.32550   191982.93710    336496.73110    364483.55300   \n",
       "...             ...            ...             ...             ...   \n",
       "11149    3093.56280   180057.74870    464149.28660    473604.91330   \n",
       "11150    3138.30150   209652.60460    433756.04630    485802.58920   \n",
       "11151    6490.66530   276530.32180    577252.55750    657149.64600   \n",
       "11152    3767.47400   274754.85890    678936.67900    693101.08580   \n",
       "11153    2960.25790   191655.45880    480578.92400    488982.73420   \n",
       "\n",
       "                야간인구수       일최대이동인구수       서울외유입인구수 동일자치구행정동간이동인구수  \\\n",
       "0      10835347.99270  5922652.24620  1443767.33920  2007540.66260   \n",
       "1        277535.30380   280741.73630    77103.28080    31032.08440   \n",
       "2        295233.93610   344379.88000    94382.41020    28238.31000   \n",
       "3        299378.13000   189644.15720    51772.66770    42762.69170   \n",
       "4        346537.52780   191982.93710    37607.98280    59778.12110   \n",
       "...               ...            ...            ...            ...   \n",
       "11149    498909.03080   180057.74870    41039.39720    88471.92170   \n",
       "11150    468914.71160   209652.60460    54485.90890    71317.11270   \n",
       "11151    628164.40460   276530.32180    68407.89380    96160.59410   \n",
       "11152    714489.78940   274754.85890    71580.75170   134322.03180   \n",
       "11153    518650.73860   191655.45880    44395.12800   113164.87940   \n",
       "\n",
       "           자치구간이동인구수  \n",
       "0      2471344.24440  \n",
       "1       172606.37110  \n",
       "2       221759.15980  \n",
       "3        95108.79780  \n",
       "4        94596.83320  \n",
       "...              ...  \n",
       "11149    50546.42980  \n",
       "11150    83849.58300  \n",
       "11151   111961.83390  \n",
       "11152    68852.07540  \n",
       "11153    34095.45140  \n",
       "\n",
       "[11154 rows x 15 columns]"
      ]
     },
     "execution_count": 50,
     "metadata": {},
     "output_type": "execute_result"
    }
   ],
   "source": [
    "population"
   ]
  },
  {
   "cell_type": "code",
   "execution_count": 51,
   "metadata": {
    "ExecuteTime": {
     "end_time": "2021-04-05T08:45:18.617642Z",
     "start_time": "2021-04-05T08:45:18.474022Z"
    },
    "scrolled": true
   },
   "outputs": [],
   "source": [
    "population.to_csv('자치구단위서울생활인구일별집계표.csv',encoding='utf-8')"
   ]
  },
  {
   "cell_type": "markdown",
   "metadata": {},
   "source": [
    "## 2. 서울시 일별 평균 대기오염도 정보\n",
    "* [URL](http://data.seoul.go.kr/dataList/OA-2218/S/1/datasetView.do)\n",
    "* 2019년 이후의 데이터는 API로만 제공하므로 (2020-01-01 ~ 2020-09-30)만큼 추출"
   ]
  },
  {
   "cell_type": "code",
   "execution_count": 54,
   "metadata": {},
   "outputs": [
    {
     "data": {
      "application/vnd.jupyter.widget-view+json": {
       "model_id": "620e535540a34434a2eda69580e82e2b",
       "version_major": 2,
       "version_minor": 0
      },
      "text/plain": [
       "HBox(children=(HTML(value=''), FloatProgress(value=0.0, max=275.0), HTML(value='')))"
      ]
     },
     "metadata": {},
     "output_type": "display_data"
    },
    {
     "name": "stdout",
     "output_type": "stream",
     "text": [
      "\n"
     ]
    }
   ],
   "source": [
    "## API를 활용해 데이터 불러오기\n",
    "\n",
    "date_list = pd.date_range('20200101', '20201001').strftime('%Y%m%d')\n",
    "\n",
    "url = 'http://openapi.seoul.go.kr:8088/4979477a4d716b7237334655784f52/xml/DailyAverageAirQuality/1/100/'\n",
    "\n",
    "data_list = []\n",
    "\n",
    "for date in tqdm(date_list):\n",
    "    url_final = url + date\n",
    "    result = requests.get(url_final)\n",
    "    bs_obj = BeautifulSoup(result.content, 'html.parser')\n",
    "    \n",
    "    data_list.extend(bs_obj.find_all('row'))\n",
    "    "
   ]
  },
  {
   "cell_type": "code",
   "execution_count": 55,
   "metadata": {},
   "outputs": [
    {
     "data": {
      "application/vnd.jupyter.widget-view+json": {
       "model_id": "60e0d84819794bd8b5ba1181717c809f",
       "version_major": 2,
       "version_minor": 0
      },
      "text/plain": [
       "HBox(children=(HTML(value=''), FloatProgress(value=1.0, bar_style='info', layout=Layout(width='20px'), max=1.0…"
      ]
     },
     "metadata": {},
     "output_type": "display_data"
    },
    {
     "name": "stdout",
     "output_type": "stream",
     "text": [
      "\n"
     ]
    }
   ],
   "source": [
    "columns=['msrdt_de', 'msrste_nm', 'no2', 'o3', 'co', 'so2', 'pm10', 'pm25']\n",
    "\n",
    "pollution = pd.DataFrame(columns=columns)\n",
    "\n",
    "\n",
    "for i, data in tqdm(enumerate(data_list)):\n",
    "    for column in columns:\n",
    "        pollution.loc[i, column] = data.find(column).text\n",
    "        "
   ]
  },
  {
   "cell_type": "code",
   "execution_count": 58,
   "metadata": {},
   "outputs": [],
   "source": [
    "pollution.columns = ['측정일시', '측정소명', '이산화질소', '오존', '일산화탄소', '아황산가스', '미세먼지', '초미세먼지']"
   ]
  },
  {
   "cell_type": "code",
   "execution_count": 61,
   "metadata": {},
   "outputs": [],
   "source": [
    "pollution.to_csv('서울시 일별 평균 대기오염도 정보.csv', encoding='utf-8')"
   ]
  }
 ],
 "metadata": {
  "kernelspec": {
   "display_name": "Python 3",
   "language": "python",
   "name": "python3"
  },
  "language_info": {
   "codemirror_mode": {
    "name": "ipython",
    "version": 3
   },
   "file_extension": ".py",
   "mimetype": "text/x-python",
   "name": "python",
   "nbconvert_exporter": "python",
   "pygments_lexer": "ipython3",
   "version": "3.8.5"
  },
  "toc": {
   "base_numbering": 1,
   "nav_menu": {},
   "number_sections": true,
   "sideBar": true,
   "skip_h1_title": false,
   "title_cell": "Table of Contents",
   "title_sidebar": "Contents",
   "toc_cell": false,
   "toc_position": {},
   "toc_section_display": true,
   "toc_window_display": false
  }
 },
 "nbformat": 4,
 "nbformat_minor": 4
}
